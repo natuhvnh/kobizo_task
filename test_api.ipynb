{
 "cells": [
  {
   "cell_type": "code",
   "execution_count": 4,
   "metadata": {},
   "outputs": [],
   "source": [
    "import pandas as pd\n",
    "import requests\n",
    "import json"
   ]
  },
  {
   "cell_type": "code",
   "execution_count": 11,
   "metadata": {},
   "outputs": [],
   "source": [
    "data = {\"transaction id\":\"0xf04403e162a8a988780de9a0416f8b87633e71435f03785f1c0c1291a6eb330b\",\n",
    "        \"time stamp\":\"Jul-31-2024 12:53:37 PM UTC\",\n",
    "        \"from\":\"0x000000000231c53e9dCbD5Ee410f065FBc170c29\",\n",
    "        \"to\":\"0x00000000041d945c46E073F0048cEf510D148dEA\",\n",
    "        \"value\":\"$10.71\",\n",
    "        \"method called\":\"buy\",\n",
    "        \"token price\":\"$2.38\",\n",
    "        \"liquidity\":\"$1,153,212.96\",\n",
    "        \"market cap\":\"$3,234,533.45\"}"
   ]
  },
  {
   "cell_type": "code",
   "execution_count": 12,
   "metadata": {},
   "outputs": [
    {
     "name": "stdout",
     "output_type": "stream",
     "text": [
      "200\n",
      "{'fraud_transaction': -1, 'fraud_transaction_score': -0.050024394213573076, 'large_transaction': -1, 'large_transaction_score': -0.019090905684617354, 'rapid_transaction': -1, 'rapid_transaction_score': -0.014503580905300462}\n"
     ]
    }
   ],
   "source": [
    "url = \"http://127.0.0.1:5000/predict\"\n",
    "headers = {\"Content-Type\": \"application/json\"}\n",
    "response = requests.post(url, json=json.dumps(data), headers=headers)\n",
    "print(response.status_code)\n",
    "print(response.json())"
   ]
  },
  {
   "cell_type": "code",
   "execution_count": null,
   "metadata": {},
   "outputs": [],
   "source": []
  },
  {
   "cell_type": "code",
   "execution_count": null,
   "metadata": {},
   "outputs": [],
   "source": []
  }
 ],
 "metadata": {
  "kernelspec": {
   "display_name": "Python 3",
   "language": "python",
   "name": "python3"
  },
  "language_info": {
   "codemirror_mode": {
    "name": "ipython",
    "version": 3
   },
   "file_extension": ".py",
   "mimetype": "text/x-python",
   "name": "python",
   "nbconvert_exporter": "python",
   "pygments_lexer": "ipython3",
   "version": "3.6.8"
  }
 },
 "nbformat": 4,
 "nbformat_minor": 4
}
